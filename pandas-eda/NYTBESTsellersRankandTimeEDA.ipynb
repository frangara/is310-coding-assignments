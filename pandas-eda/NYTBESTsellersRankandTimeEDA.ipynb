{
 "cells": [
  {
   "cell_type": "markdown",
   "metadata": {},
   "source": [
    "## Introduction\n",
    "\n",
    "This analysis (EDA) will explore the 'Week' and 'Rank' trends amongst bestsellers. This dataset will span nearly 90 years as well as track weekly bestseller lists. This is also something that will setup our own success metric to determine the relationship between these two variables."
   ]
  },
  {
   "cell_type": "code",
   "execution_count": 1,
   "metadata": {},
   "outputs": [
    {
     "name": "stdout",
     "output_type": "stream",
     "text": [
      "<class 'pandas.core.frame.DataFrame'>\n",
      "RangeIndex: 60386 entries, 0 to 60385\n",
      "Data columns (total 6 columns):\n",
      " #   Column    Non-Null Count  Dtype \n",
      "---  ------    --------------  ----- \n",
      " 0   year      60386 non-null  int64 \n",
      " 1   week      60386 non-null  object\n",
      " 2   rank      60386 non-null  int64 \n",
      " 3   title_id  60386 non-null  int64 \n",
      " 4   title     60386 non-null  object\n",
      " 5   author    60376 non-null  object\n",
      "dtypes: int64(3), object(3)\n",
      "memory usage: 2.8+ MB\n"
     ]
    }
   ],
   "source": [
    "# Import necessary libraries\n",
    "import pandas as pd\n",
    "import altair as alt\n",
    "\n",
    "# Load the dataset\n",
    "url = \"https://raw.githubusercontent.com/ecds/post45-datasets/main/nyt_full.tsv\"\n",
    "nyt_df = pd.read_csv(url, sep=\"\\t\")\n",
    "\n",
    "# Initial display\n",
    "nyt_df.head()\n",
    "nyt_df.info()\n"
   ]
  },
  {
   "cell_type": "markdown",
   "metadata": {},
   "source": [
    "## Intital Exploration"
   ]
  },
  {
   "cell_type": "markdown",
   "metadata": {},
   "source": [
    "1. Check for Null Values"
   ]
  },
  {
   "cell_type": "code",
   "execution_count": 2,
   "metadata": {},
   "outputs": [
    {
     "data": {
      "text/plain": [
       "year         0\n",
       "week         0\n",
       "rank         0\n",
       "title_id     0\n",
       "title        0\n",
       "author      10\n",
       "dtype: int64"
      ]
     },
     "execution_count": 2,
     "metadata": {},
     "output_type": "execute_result"
    }
   ],
   "source": [
    "# Checking null values\n",
    "nyt_df.isna().sum()\n"
   ]
  },
  {
   "cell_type": "markdown",
   "metadata": {},
   "source": [
    "2. Data Summary"
   ]
  },
  {
   "cell_type": "code",
   "execution_count": 3,
   "metadata": {},
   "outputs": [
    {
     "data": {
      "text/html": [
       "<div>\n",
       "<style scoped>\n",
       "    .dataframe tbody tr th:only-of-type {\n",
       "        vertical-align: middle;\n",
       "    }\n",
       "\n",
       "    .dataframe tbody tr th {\n",
       "        vertical-align: top;\n",
       "    }\n",
       "\n",
       "    .dataframe thead th {\n",
       "        text-align: right;\n",
       "    }\n",
       "</style>\n",
       "<table border=\"1\" class=\"dataframe\">\n",
       "  <thead>\n",
       "    <tr style=\"text-align: right;\">\n",
       "      <th></th>\n",
       "      <th>year</th>\n",
       "      <th>week</th>\n",
       "      <th>rank</th>\n",
       "      <th>title_id</th>\n",
       "      <th>title</th>\n",
       "      <th>author</th>\n",
       "    </tr>\n",
       "  </thead>\n",
       "  <tbody>\n",
       "    <tr>\n",
       "      <th>count</th>\n",
       "      <td>60386.000000</td>\n",
       "      <td>60386</td>\n",
       "      <td>60386.000000</td>\n",
       "      <td>60386.000000</td>\n",
       "      <td>60386</td>\n",
       "      <td>60376</td>\n",
       "    </tr>\n",
       "    <tr>\n",
       "      <th>unique</th>\n",
       "      <td>NaN</td>\n",
       "      <td>4621</td>\n",
       "      <td>NaN</td>\n",
       "      <td>NaN</td>\n",
       "      <td>7172</td>\n",
       "      <td>2210</td>\n",
       "    </tr>\n",
       "    <tr>\n",
       "      <th>top</th>\n",
       "      <td>NaN</td>\n",
       "      <td>1987-08-16</td>\n",
       "      <td>NaN</td>\n",
       "      <td>NaN</td>\n",
       "      <td>OH, THE PLACES YOU'LL GO!</td>\n",
       "      <td>Danielle Steel</td>\n",
       "    </tr>\n",
       "    <tr>\n",
       "      <th>freq</th>\n",
       "      <td>NaN</td>\n",
       "      <td>18</td>\n",
       "      <td>NaN</td>\n",
       "      <td>NaN</td>\n",
       "      <td>178</td>\n",
       "      <td>957</td>\n",
       "    </tr>\n",
       "    <tr>\n",
       "      <th>mean</th>\n",
       "      <td>1980.291375</td>\n",
       "      <td>NaN</td>\n",
       "      <td>7.578329</td>\n",
       "      <td>3810.020154</td>\n",
       "      <td>NaN</td>\n",
       "      <td>NaN</td>\n",
       "    </tr>\n",
       "    <tr>\n",
       "      <th>std</th>\n",
       "      <td>24.440366</td>\n",
       "      <td>NaN</td>\n",
       "      <td>4.401472</td>\n",
       "      <td>2118.650219</td>\n",
       "      <td>NaN</td>\n",
       "      <td>NaN</td>\n",
       "    </tr>\n",
       "    <tr>\n",
       "      <th>min</th>\n",
       "      <td>1931.000000</td>\n",
       "      <td>NaN</td>\n",
       "      <td>1.000000</td>\n",
       "      <td>0.000000</td>\n",
       "      <td>NaN</td>\n",
       "      <td>NaN</td>\n",
       "    </tr>\n",
       "    <tr>\n",
       "      <th>25%</th>\n",
       "      <td>1958.000000</td>\n",
       "      <td>NaN</td>\n",
       "      <td>4.000000</td>\n",
       "      <td>2012.000000</td>\n",
       "      <td>NaN</td>\n",
       "      <td>NaN</td>\n",
       "    </tr>\n",
       "    <tr>\n",
       "      <th>50%</th>\n",
       "      <td>1982.000000</td>\n",
       "      <td>NaN</td>\n",
       "      <td>7.000000</td>\n",
       "      <td>3931.500000</td>\n",
       "      <td>NaN</td>\n",
       "      <td>NaN</td>\n",
       "    </tr>\n",
       "    <tr>\n",
       "      <th>75%</th>\n",
       "      <td>2001.000000</td>\n",
       "      <td>NaN</td>\n",
       "      <td>11.000000</td>\n",
       "      <td>5599.000000</td>\n",
       "      <td>NaN</td>\n",
       "      <td>NaN</td>\n",
       "    </tr>\n",
       "    <tr>\n",
       "      <th>max</th>\n",
       "      <td>2020.000000</td>\n",
       "      <td>NaN</td>\n",
       "      <td>18.000000</td>\n",
       "      <td>7430.000000</td>\n",
       "      <td>NaN</td>\n",
       "      <td>NaN</td>\n",
       "    </tr>\n",
       "  </tbody>\n",
       "</table>\n",
       "</div>"
      ],
      "text/plain": [
       "                year        week          rank      title_id  \\\n",
       "count   60386.000000       60386  60386.000000  60386.000000   \n",
       "unique           NaN        4621           NaN           NaN   \n",
       "top              NaN  1987-08-16           NaN           NaN   \n",
       "freq             NaN          18           NaN           NaN   \n",
       "mean     1980.291375         NaN      7.578329   3810.020154   \n",
       "std        24.440366         NaN      4.401472   2118.650219   \n",
       "min      1931.000000         NaN      1.000000      0.000000   \n",
       "25%      1958.000000         NaN      4.000000   2012.000000   \n",
       "50%      1982.000000         NaN      7.000000   3931.500000   \n",
       "75%      2001.000000         NaN     11.000000   5599.000000   \n",
       "max      2020.000000         NaN     18.000000   7430.000000   \n",
       "\n",
       "                            title          author  \n",
       "count                       60386           60376  \n",
       "unique                       7172            2210  \n",
       "top     OH, THE PLACES YOU'LL GO!  Danielle Steel  \n",
       "freq                          178             957  \n",
       "mean                          NaN             NaN  \n",
       "std                           NaN             NaN  \n",
       "min                           NaN             NaN  \n",
       "25%                           NaN             NaN  \n",
       "50%                           NaN             NaN  \n",
       "75%                           NaN             NaN  \n",
       "max                           NaN             NaN  "
      ]
     },
     "execution_count": 3,
     "metadata": {},
     "output_type": "execute_result"
    }
   ],
   "source": [
    "# Summary statistics\n",
    "nyt_df.describe(include=\"all\")\n"
   ]
  },
  {
   "cell_type": "markdown",
   "metadata": {},
   "source": [
    "# Rank Distribution over time"
   ]
  },
  {
   "cell_type": "code",
   "execution_count": 6,
   "metadata": {},
   "outputs": [
    {
     "data": {
      "text/html": [
       "\n",
       "<style>\n",
       "  #altair-viz-e56c71619b47448394b149c9f75d85f3.vega-embed {\n",
       "    width: 100%;\n",
       "    display: flex;\n",
       "  }\n",
       "\n",
       "  #altair-viz-e56c71619b47448394b149c9f75d85f3.vega-embed details,\n",
       "  #altair-viz-e56c71619b47448394b149c9f75d85f3.vega-embed details summary {\n",
       "    position: relative;\n",
       "  }\n",
       "</style>\n",
       "<div id=\"altair-viz-e56c71619b47448394b149c9f75d85f3\"></div>\n",
       "<script type=\"text/javascript\">\n",
       "  var VEGA_DEBUG = (typeof VEGA_DEBUG == \"undefined\") ? {} : VEGA_DEBUG;\n",
       "  (function(spec, embedOpt){\n",
       "    let outputDiv = document.currentScript.previousElementSibling;\n",
       "    if (outputDiv.id !== \"altair-viz-e56c71619b47448394b149c9f75d85f3\") {\n",
       "      outputDiv = document.getElementById(\"altair-viz-e56c71619b47448394b149c9f75d85f3\");\n",
       "    }\n",
       "    const paths = {\n",
       "      \"vega\": \"https://cdn.jsdelivr.net/npm/vega@5?noext\",\n",
       "      \"vega-lib\": \"https://cdn.jsdelivr.net/npm/vega-lib?noext\",\n",
       "      \"vega-lite\": \"https://cdn.jsdelivr.net/npm/vega-lite@5.20.1?noext\",\n",
       "      \"vega-embed\": \"https://cdn.jsdelivr.net/npm/vega-embed@6?noext\",\n",
       "    };\n",
       "\n",
       "    function maybeLoadScript(lib, version) {\n",
       "      var key = `${lib.replace(\"-\", \"\")}_version`;\n",
       "      return (VEGA_DEBUG[key] == version) ?\n",
       "        Promise.resolve(paths[lib]) :\n",
       "        new Promise(function(resolve, reject) {\n",
       "          var s = document.createElement('script');\n",
       "          document.getElementsByTagName(\"head\")[0].appendChild(s);\n",
       "          s.async = true;\n",
       "          s.onload = () => {\n",
       "            VEGA_DEBUG[key] = version;\n",
       "            return resolve(paths[lib]);\n",
       "          };\n",
       "          s.onerror = () => reject(`Error loading script: ${paths[lib]}`);\n",
       "          s.src = paths[lib];\n",
       "        });\n",
       "    }\n",
       "\n",
       "    function showError(err) {\n",
       "      outputDiv.innerHTML = `<div class=\"error\" style=\"color:red;\">${err}</div>`;\n",
       "      throw err;\n",
       "    }\n",
       "\n",
       "    function displayChart(vegaEmbed) {\n",
       "      vegaEmbed(outputDiv, spec, embedOpt)\n",
       "        .catch(err => showError(`Javascript Error: ${err.message}<br>This usually means there's a typo in your chart specification. See the javascript console for the full traceback.`));\n",
       "    }\n",
       "\n",
       "    if(typeof define === \"function\" && define.amd) {\n",
       "      requirejs.config({paths});\n",
       "      require([\"vega-embed\"], displayChart, err => showError(`Error loading script: ${err.message}`));\n",
       "    } else {\n",
       "      maybeLoadScript(\"vega\", \"5\")\n",
       "        .then(() => maybeLoadScript(\"vega-lite\", \"5.20.1\"))\n",
       "        .then(() => maybeLoadScript(\"vega-embed\", \"6\"))\n",
       "        .catch(showError)\n",
       "        .then(() => displayChart(vegaEmbed));\n",
       "    }\n",
       "  })({\"config\": {\"view\": {\"continuousWidth\": 300, \"continuousHeight\": 300}}, \"data\": {\"name\": \"data-95abdb00d9b10c34cf55f8548b3b2938\"}, \"mark\": {\"type\": \"line\"}, \"encoding\": {\"tooltip\": [{\"field\": \"year\", \"type\": \"quantitative\"}, {\"field\": \"rank\", \"type\": \"quantitative\"}], \"x\": {\"field\": \"year\", \"type\": \"ordinal\"}, \"y\": {\"field\": \"rank\", \"type\": \"quantitative\"}}, \"title\": \"Average Rank Over Time\", \"width\": 600, \"$schema\": \"https://vega.github.io/schema/vega-lite/v5.20.1.json\", \"datasets\": {\"data-95abdb00d9b10c34cf55f8548b3b2938\": [{\"year\": 1931, \"rank\": 2.4}, {\"year\": 1932, \"rank\": 2.0}, {\"year\": 1933, \"rank\": 2.0}, {\"year\": 1934, \"rank\": 4.400990099009901}, {\"year\": 1935, \"rank\": 4.493975903614458}, {\"year\": 1936, \"rank\": 4.263565891472868}, {\"year\": 1937, \"rank\": 4.355889724310777}, {\"year\": 1938, \"rank\": 3.895348837209302}, {\"year\": 1939, \"rank\": 3.532051282051282}, {\"year\": 1940, \"rank\": 3.5753846153846154}, {\"year\": 1941, \"rank\": 3.5}, {\"year\": 1942, \"rank\": 3.121771217712177}, {\"year\": 1943, \"rank\": 3.0}, {\"year\": 1944, \"rank\": 3.011278195488722}, {\"year\": 1945, \"rank\": 6.3467561521252795}, {\"year\": 1946, \"rank\": 8.5}, {\"year\": 1947, \"rank\": 8.5}, {\"year\": 1948, \"rank\": 8.5}, {\"year\": 1949, \"rank\": 8.5}, {\"year\": 1950, \"rank\": 8.5}, {\"year\": 1951, \"rank\": 8.5}, {\"year\": 1952, \"rank\": 8.490974729241877}, {\"year\": 1953, \"rank\": 8.5}, {\"year\": 1954, \"rank\": 8.5}, {\"year\": 1955, \"rank\": 8.5}, {\"year\": 1956, \"rank\": 8.5}, {\"year\": 1957, \"rank\": 8.5}, {\"year\": 1958, \"rank\": 8.5}, {\"year\": 1959, \"rank\": 8.5}, {\"year\": 1960, \"rank\": 8.5}, {\"year\": 1961, \"rank\": 8.5}, {\"year\": 1962, \"rank\": 8.5}, {\"year\": 1963, \"rank\": 5.869402985074627}, {\"year\": 1964, \"rank\": 5.5}, {\"year\": 1965, \"rank\": 5.5}, {\"year\": 1966, \"rank\": 5.5}, {\"year\": 1967, \"rank\": 5.5}, {\"year\": 1968, \"rank\": 5.5}, {\"year\": 1969, \"rank\": 5.5}, {\"year\": 1970, \"rank\": 5.5}, {\"year\": 1971, \"rank\": 5.5}, {\"year\": 1972, \"rank\": 5.5}, {\"year\": 1973, \"rank\": 5.5}, {\"year\": 1974, \"rank\": 5.5}, {\"year\": 1975, \"rank\": 5.5}, {\"year\": 1976, \"rank\": 5.5}, {\"year\": 1977, \"rank\": 6.5}, {\"year\": 1978, \"rank\": 8.0}, {\"year\": 1979, \"rank\": 8.0}, {\"year\": 1980, \"rank\": 8.0}, {\"year\": 1981, \"rank\": 8.0}, {\"year\": 1982, \"rank\": 8.0}, {\"year\": 1983, \"rank\": 8.0}, {\"year\": 1984, \"rank\": 8.041301627033793}, {\"year\": 1985, \"rank\": 8.08248730964467}, {\"year\": 1986, \"rank\": 8.163316582914574}, {\"year\": 1987, \"rank\": 8.205}, {\"year\": 1988, \"rank\": 8.092522179974651}, {\"year\": 1989, \"rank\": 8.112903225806452}, {\"year\": 1990, \"rank\": 8.031928480204343}, {\"year\": 1991, \"rank\": 8.175658720200753}, {\"year\": 1992, \"rank\": 8.10506329113924}, {\"year\": 1993, \"rank\": 8.050955414012739}, {\"year\": 1994, \"rank\": 8.081218274111675}, {\"year\": 1995, \"rank\": 8.05}, {\"year\": 1996, \"rank\": 8.143576826196474}, {\"year\": 1997, \"rank\": 8.141057934508817}, {\"year\": 1998, \"rank\": 8.153459119496855}, {\"year\": 1999, \"rank\": 8.193992490613267}, {\"year\": 2000, \"rank\": 8.129950495049505}, {\"year\": 2001, \"rank\": 8.10126582278481}, {\"year\": 2002, \"rank\": 8.11340206185567}, {\"year\": 2003, \"rank\": 8.150943396226415}, {\"year\": 2004, \"rank\": 8.131147540983607}, {\"year\": 2005, \"rank\": 8.093023255813954}, {\"year\": 2006, \"rank\": 8.170639899623588}, {\"year\": 2007, \"rank\": 8.258064516129032}, {\"year\": 2008, \"rank\": 8.352941176470589}, {\"year\": 2009, \"rank\": 8.209737827715356}, {\"year\": 2010, \"rank\": 8.061068702290076}, {\"year\": 2011, \"rank\": 8.277227722772277}, {\"year\": 2012, \"rank\": 8.364945978391356}, {\"year\": 2013, \"rank\": 8.362301101591187}, {\"year\": 2014, \"rank\": 8.380952380952381}, {\"year\": 2015, \"rank\": 8.30188679245283}, {\"year\": 2016, \"rank\": 8.369077306733168}, {\"year\": 2017, \"rank\": 8.05}, {\"year\": 2018, \"rank\": 8.0}, {\"year\": 2019, \"rank\": 8.0}, {\"year\": 2020, \"rank\": 8.0}]}}, {\"mode\": \"vega-lite\"});\n",
       "</script>"
      ],
      "text/plain": [
       "alt.Chart(...)"
      ]
     },
     "execution_count": 6,
     "metadata": {},
     "output_type": "execute_result"
    }
   ],
   "source": [
    "# Distribution of ranks by year\n",
    "rank_by_year = nyt_df.groupby('year')['rank'].mean().reset_index()\n",
    "\n",
    "# Plot average rank per year to see trends over time\n",
    "alt.Chart(rank_by_year).mark_line().encode(\n",
    "    x='year:O',\n",
    "    y='rank:Q',\n",
    "    tooltip=['year', 'rank']\n",
    ").properties(\n",
    "    title=\"Average Rank Over Time\",\n",
    "    width=600\n",
    ")\n"
   ]
  },
  {
   "cell_type": "markdown",
   "metadata": {},
   "source": [
    "## Success by Weeks on the List\n",
    "# Define success as the number of weeks a book has stayed on the list."
   ]
  },
  {
   "cell_type": "code",
   "execution_count": 7,
   "metadata": {},
   "outputs": [],
   "source": [
    "# Calculate weeks on list for each title\n",
    "weeks_on_list_df = nyt_df.groupby('title').size().reset_index(name='weeks_on_list')\n",
    "\n",
    "# Merge with the original dataframe\n",
    "nyt_df = nyt_df.merge(weeks_on_list_df, on='title', how='left')\n"
   ]
  },
  {
   "cell_type": "markdown",
   "metadata": {},
   "source": [
    "## Analyze Top Performing Titles by Weeks on List"
   ]
  },
  {
   "cell_type": "code",
   "execution_count": 8,
   "metadata": {},
   "outputs": [
    {
     "data": {
      "text/html": [
       "\n",
       "<style>\n",
       "  #altair-viz-bec038dd399e4cd18e8fd803d6469647.vega-embed {\n",
       "    width: 100%;\n",
       "    display: flex;\n",
       "  }\n",
       "\n",
       "  #altair-viz-bec038dd399e4cd18e8fd803d6469647.vega-embed details,\n",
       "  #altair-viz-bec038dd399e4cd18e8fd803d6469647.vega-embed details summary {\n",
       "    position: relative;\n",
       "  }\n",
       "</style>\n",
       "<div id=\"altair-viz-bec038dd399e4cd18e8fd803d6469647\"></div>\n",
       "<script type=\"text/javascript\">\n",
       "  var VEGA_DEBUG = (typeof VEGA_DEBUG == \"undefined\") ? {} : VEGA_DEBUG;\n",
       "  (function(spec, embedOpt){\n",
       "    let outputDiv = document.currentScript.previousElementSibling;\n",
       "    if (outputDiv.id !== \"altair-viz-bec038dd399e4cd18e8fd803d6469647\") {\n",
       "      outputDiv = document.getElementById(\"altair-viz-bec038dd399e4cd18e8fd803d6469647\");\n",
       "    }\n",
       "    const paths = {\n",
       "      \"vega\": \"https://cdn.jsdelivr.net/npm/vega@5?noext\",\n",
       "      \"vega-lib\": \"https://cdn.jsdelivr.net/npm/vega-lib?noext\",\n",
       "      \"vega-lite\": \"https://cdn.jsdelivr.net/npm/vega-lite@5.20.1?noext\",\n",
       "      \"vega-embed\": \"https://cdn.jsdelivr.net/npm/vega-embed@6?noext\",\n",
       "    };\n",
       "\n",
       "    function maybeLoadScript(lib, version) {\n",
       "      var key = `${lib.replace(\"-\", \"\")}_version`;\n",
       "      return (VEGA_DEBUG[key] == version) ?\n",
       "        Promise.resolve(paths[lib]) :\n",
       "        new Promise(function(resolve, reject) {\n",
       "          var s = document.createElement('script');\n",
       "          document.getElementsByTagName(\"head\")[0].appendChild(s);\n",
       "          s.async = true;\n",
       "          s.onload = () => {\n",
       "            VEGA_DEBUG[key] = version;\n",
       "            return resolve(paths[lib]);\n",
       "          };\n",
       "          s.onerror = () => reject(`Error loading script: ${paths[lib]}`);\n",
       "          s.src = paths[lib];\n",
       "        });\n",
       "    }\n",
       "\n",
       "    function showError(err) {\n",
       "      outputDiv.innerHTML = `<div class=\"error\" style=\"color:red;\">${err}</div>`;\n",
       "      throw err;\n",
       "    }\n",
       "\n",
       "    function displayChart(vegaEmbed) {\n",
       "      vegaEmbed(outputDiv, spec, embedOpt)\n",
       "        .catch(err => showError(`Javascript Error: ${err.message}<br>This usually means there's a typo in your chart specification. See the javascript console for the full traceback.`));\n",
       "    }\n",
       "\n",
       "    if(typeof define === \"function\" && define.amd) {\n",
       "      requirejs.config({paths});\n",
       "      require([\"vega-embed\"], displayChart, err => showError(`Error loading script: ${err.message}`));\n",
       "    } else {\n",
       "      maybeLoadScript(\"vega\", \"5\")\n",
       "        .then(() => maybeLoadScript(\"vega-lite\", \"5.20.1\"))\n",
       "        .then(() => maybeLoadScript(\"vega-embed\", \"6\"))\n",
       "        .catch(showError)\n",
       "        .then(() => displayChart(vegaEmbed));\n",
       "    }\n",
       "  })({\"config\": {\"view\": {\"continuousWidth\": 300, \"continuousHeight\": 300}}, \"data\": {\"name\": \"data-6fe1283a275b179879ffe01cfc5e8f84\"}, \"mark\": {\"type\": \"bar\"}, \"encoding\": {\"tooltip\": [{\"field\": \"title\", \"type\": \"nominal\"}, {\"field\": \"weeks_on_list\", \"type\": \"quantitative\"}], \"x\": {\"field\": \"title\", \"type\": \"nominal\"}, \"y\": {\"field\": \"weeks_on_list\", \"type\": \"quantitative\"}}, \"title\": \"Top 10 Titles by Weeks on List\", \"width\": 600, \"$schema\": \"https://vega.github.io/schema/vega-lite/v5.20.1.json\", \"datasets\": {\"data-6fe1283a275b179879ffe01cfc5e8f84\": [{\"title\": \"OH, THE PLACES YOU'LL GO!\", \"weeks_on_list\": 178}, {\"title\": \"THE CELESTINE PROPHECY\", \"weeks_on_list\": 165}, {\"title\": \"THE DA VINCI CODE\", \"weeks_on_list\": 165}, {\"title\": \"THE BRIDGES OF MADISON COUNTY\", \"weeks_on_list\": 164}, {\"title\": \"ALL THE LIGHT WE CANNOT SEE\", \"weeks_on_list\": 132}, {\"title\": \"THE CAINE MUTINY\", \"weeks_on_list\": 123}, {\"title\": \"WHERE THE CRAWDADS SING\", \"weeks_on_list\": 114}, {\"title\": \"AUNTIE MAME\", \"weeks_on_list\": 112}, {\"title\": \"THE ROBE\", \"weeks_on_list\": 111}, {\"title\": \"THE HELP\", \"weeks_on_list\": 108}]}}, {\"mode\": \"vega-lite\"});\n",
       "</script>"
      ],
      "text/plain": [
       "alt.Chart(...)"
      ]
     },
     "execution_count": 8,
     "metadata": {},
     "output_type": "execute_result"
    }
   ],
   "source": [
    "# Get the top 10 longest-running titles\n",
    "top_titles = nyt_df[['title', 'weeks_on_list']].drop_duplicates().nlargest(10, 'weeks_on_list')\n",
    "\n",
    "# Plot with Altair\n",
    "alt.Chart(top_titles).mark_bar().encode(\n",
    "    x='title:N',\n",
    "    y='weeks_on_list:Q',\n",
    "    tooltip=['title', 'weeks_on_list']\n",
    ").properties(\n",
    "    title=\"Top 10 Titles by Weeks on List\",\n",
    "    width=600\n",
    ")\n"
   ]
  },
  {
   "cell_type": "markdown",
   "metadata": {},
   "source": [
    "## Rank Distribution by Decade"
   ]
  },
  {
   "cell_type": "code",
   "execution_count": 10,
   "metadata": {},
   "outputs": [
    {
     "data": {
      "text/html": [
       "\n",
       "<style>\n",
       "  #altair-viz-a03a7cb6e9f64190908a87d6cd8d4152.vega-embed {\n",
       "    width: 100%;\n",
       "    display: flex;\n",
       "  }\n",
       "\n",
       "  #altair-viz-a03a7cb6e9f64190908a87d6cd8d4152.vega-embed details,\n",
       "  #altair-viz-a03a7cb6e9f64190908a87d6cd8d4152.vega-embed details summary {\n",
       "    position: relative;\n",
       "  }\n",
       "</style>\n",
       "<div id=\"altair-viz-a03a7cb6e9f64190908a87d6cd8d4152\"></div>\n",
       "<script type=\"text/javascript\">\n",
       "  var VEGA_DEBUG = (typeof VEGA_DEBUG == \"undefined\") ? {} : VEGA_DEBUG;\n",
       "  (function(spec, embedOpt){\n",
       "    let outputDiv = document.currentScript.previousElementSibling;\n",
       "    if (outputDiv.id !== \"altair-viz-a03a7cb6e9f64190908a87d6cd8d4152\") {\n",
       "      outputDiv = document.getElementById(\"altair-viz-a03a7cb6e9f64190908a87d6cd8d4152\");\n",
       "    }\n",
       "    const paths = {\n",
       "      \"vega\": \"https://cdn.jsdelivr.net/npm/vega@5?noext\",\n",
       "      \"vega-lib\": \"https://cdn.jsdelivr.net/npm/vega-lib?noext\",\n",
       "      \"vega-lite\": \"https://cdn.jsdelivr.net/npm/vega-lite@5.20.1?noext\",\n",
       "      \"vega-embed\": \"https://cdn.jsdelivr.net/npm/vega-embed@6?noext\",\n",
       "    };\n",
       "\n",
       "    function maybeLoadScript(lib, version) {\n",
       "      var key = `${lib.replace(\"-\", \"\")}_version`;\n",
       "      return (VEGA_DEBUG[key] == version) ?\n",
       "        Promise.resolve(paths[lib]) :\n",
       "        new Promise(function(resolve, reject) {\n",
       "          var s = document.createElement('script');\n",
       "          document.getElementsByTagName(\"head\")[0].appendChild(s);\n",
       "          s.async = true;\n",
       "          s.onload = () => {\n",
       "            VEGA_DEBUG[key] = version;\n",
       "            return resolve(paths[lib]);\n",
       "          };\n",
       "          s.onerror = () => reject(`Error loading script: ${paths[lib]}`);\n",
       "          s.src = paths[lib];\n",
       "        });\n",
       "    }\n",
       "\n",
       "    function showError(err) {\n",
       "      outputDiv.innerHTML = `<div class=\"error\" style=\"color:red;\">${err}</div>`;\n",
       "      throw err;\n",
       "    }\n",
       "\n",
       "    function displayChart(vegaEmbed) {\n",
       "      vegaEmbed(outputDiv, spec, embedOpt)\n",
       "        .catch(err => showError(`Javascript Error: ${err.message}<br>This usually means there's a typo in your chart specification. See the javascript console for the full traceback.`));\n",
       "    }\n",
       "\n",
       "    if(typeof define === \"function\" && define.amd) {\n",
       "      requirejs.config({paths});\n",
       "      require([\"vega-embed\"], displayChart, err => showError(`Error loading script: ${err.message}`));\n",
       "    } else {\n",
       "      maybeLoadScript(\"vega\", \"5\")\n",
       "        .then(() => maybeLoadScript(\"vega-lite\", \"5.20.1\"))\n",
       "        .then(() => maybeLoadScript(\"vega-embed\", \"6\"))\n",
       "        .catch(showError)\n",
       "        .then(() => displayChart(vegaEmbed));\n",
       "    }\n",
       "  })({\"config\": {\"view\": {\"continuousWidth\": 300, \"continuousHeight\": 300}}, \"data\": {\"name\": \"data-86dcc43bc7d5ce77b38474b744bdcf26\"}, \"mark\": {\"type\": \"bar\"}, \"encoding\": {\"tooltip\": [{\"field\": \"decade\", \"type\": \"quantitative\"}, {\"field\": \"rank\", \"type\": \"quantitative\"}], \"x\": {\"field\": \"decade\", \"type\": \"ordinal\"}, \"y\": {\"field\": \"rank\", \"type\": \"quantitative\"}}, \"title\": \"Average Rank by Decade\", \"width\": 600, \"$schema\": \"https://vega.github.io/schema/vega-lite/v5.20.1.json\", \"datasets\": {\"data-86dcc43bc7d5ce77b38474b744bdcf26\": [{\"decade\": 1930, \"rank\": 3.909545804464973}, {\"decade\": 1940, \"rank\": 6.873872144365521}, {\"decade\": 1950, \"rank\": 8.499096712031795}, {\"decade\": 1960, \"rank\": 6.751383914034516}, {\"decade\": 1970, \"rank\": 6.219360568383659}, {\"decade\": 1980, \"rank\": 8.070397569004811}, {\"decade\": 1990, \"rank\": 8.112933753943217}, {\"decade\": 2000, \"rank\": 8.172071392659628}, {\"decade\": 2010, \"rank\": 8.220275344180225}, {\"decade\": 2020, \"rank\": 8.0}]}}, {\"mode\": \"vega-lite\"});\n",
       "</script>"
      ],
      "text/plain": [
       "alt.Chart(...)"
      ]
     },
     "execution_count": 10,
     "metadata": {},
     "output_type": "execute_result"
    }
   ],
   "source": [
    "# Add a decade column\n",
    "nyt_df['decade'] = (nyt_df['year'] // 10) * 10\n",
    "\n",
    "# Average rank per decade\n",
    "avg_rank_by_decade = nyt_df.groupby('decade')['rank'].mean().reset_index()\n",
    "\n",
    "# Plot with Altair\n",
    "alt.Chart(avg_rank_by_decade).mark_bar().encode(\n",
    "    x='decade:O',\n",
    "    y='rank:Q',\n",
    "    tooltip=['decade', 'rank']\n",
    ").properties(\n",
    "    title=\"Average Rank by Decade\",\n",
    "    width=600\n",
    ")\n"
   ]
  },
  {
   "cell_type": "markdown",
   "metadata": {},
   "source": [
    "## Conclusion"
   ]
  },
  {
   "cell_type": "markdown",
   "metadata": {},
   "source": [
    "This EDA shows which books have shown success overtime as well as the average ranking within each decade. This gives a lot of insight as to how trends are measured with books and rankings."
   ]
  }
 ],
 "metadata": {
  "kernelspec": {
   "display_name": "is310_env",
   "language": "python",
   "name": "python3"
  },
  "language_info": {
   "codemirror_mode": {
    "name": "ipython",
    "version": 3
   },
   "file_extension": ".py",
   "mimetype": "text/x-python",
   "name": "python",
   "nbconvert_exporter": "python",
   "pygments_lexer": "ipython3",
   "version": "3.11.7"
  }
 },
 "nbformat": 4,
 "nbformat_minor": 2
}
